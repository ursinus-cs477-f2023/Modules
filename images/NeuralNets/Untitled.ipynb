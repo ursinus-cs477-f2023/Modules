{
 "cells": [
  {
   "cell_type": "code",
   "execution_count": 9,
   "id": "22738a47",
   "metadata": {},
   "outputs": [
    {
     "name": "stdout",
     "output_type": "stream",
     "text": [
      "x.shape (3,) W.shape (4, 3)\n",
      "after x.shape (4,)\n",
      "x.shape (4,) W.shape (5, 4)\n",
      "after x.shape (5,)\n",
      "x.shape (5,) W.shape (1, 5)\n",
      "after x.shape (1,)\n"
     ]
    }
   ],
   "source": [
    "import numpy as np\n",
    "\n",
    "logistic = lambda u: 1/(1+np.exp(-u))\n",
    "\n",
    "def nn_forward(Ws, bs, x):\n",
    "    \"\"\"\n",
    "    Evaluate a feedforward neural network\n",
    "\n",
    "    Parameters\n",
    "    ----------\n",
    "    Ws: list of ndarray(N_{i+1}, Ni)\n",
    "        Weight matrices for each layer\n",
    "    bs: list of ndarray(N_{i+1})\n",
    "        Bias vectors for each layer\n",
    "    x: ndarray(N_0)\n",
    "        Input\n",
    "      \n",
    "    Returns\n",
    "    -------\n",
    "    ndarray\n",
    "        Result of neural network evaluation\n",
    "    \"\"\"\n",
    "    for W, b in zip(Ws, bs):\n",
    "        x = logistic(np.dot(W, x)+b)\n",
    "    return x\n",
    "\n",
    "np.random.seed(0)\n",
    "As = [np.random.randn(4, 3), np.random.randn(5, 4), np.random.randn(1, 5)]\n",
    "bs = [np.random.randn(4), np.random.randn(5), np.random.randn(1)]\n",
    "x = np.random.randn(3)\n",
    "res = nn_forward(As, bs, x)"
   ]
  },
  {
   "cell_type": "code",
   "execution_count": null,
   "id": "386c6809",
   "metadata": {},
   "outputs": [],
   "source": []
  }
 ],
 "metadata": {
  "kernelspec": {
   "display_name": "Python 3 (ipykernel)",
   "language": "python",
   "name": "python3"
  },
  "language_info": {
   "codemirror_mode": {
    "name": "ipython",
    "version": 3
   },
   "file_extension": ".py",
   "mimetype": "text/x-python",
   "name": "python",
   "nbconvert_exporter": "python",
   "pygments_lexer": "ipython3",
   "version": "3.11.3"
  }
 },
 "nbformat": 4,
 "nbformat_minor": 5
}
