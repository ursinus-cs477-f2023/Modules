{
 "cells": [
  {
   "cell_type": "markdown",
   "id": "a3877219",
   "metadata": {},
   "source": [
    "# VAE Math"
   ]
  },
  {
   "cell_type": "markdown",
   "id": "d936881b",
   "metadata": {},
   "source": [
    "## Goal: min $KL(q(z|x), p(z|x))$\n",
    "\n",
    "# $KL(q(z|x), p(z|x)) = \\sum_{i} q(z|x)_i \\ln \\left( \\frac{q(z|x)_i}{p(z|x)_i} \\right)$\n"
   ]
  },
  {
   "cell_type": "markdown",
   "id": "e440fcf1",
   "metadata": {},
   "source": [
    "# $KL(q(z|x), p(z|x)) = E_{q(z|x)} \\ln \\left( \\frac{q(z|x)}{p(z|x)} \\right)$"
   ]
  },
  {
   "cell_type": "markdown",
   "id": "43bfd4fd",
   "metadata": {},
   "source": [
    "# $KL(q(z|x), p(z|x)) = E_{q(z|x)} \\ln \\left( \\frac{q(z|x)p(x)}{p(x|z)p(z)} \\right)$"
   ]
  },
  {
   "cell_type": "markdown",
   "id": "f27a2b7f",
   "metadata": {},
   "source": [
    "Using the rules of logs:\n",
    "\n",
    "### $ln(AB) = ln(A) + ln(B)$\n",
    "### $ln(A/B) = ln(A) - ln(B)$"
   ]
  },
  {
   "cell_type": "markdown",
   "id": "92a08f94",
   "metadata": {},
   "source": [
    "## $KL(q(z|x), p(z|x)) = E_{q(z|x)} \\ln(p(x)) + \\ln \\left( \\frac{q(z|x))}{p(z)} \\right) - \\ln(p(x|z))$"
   ]
  },
  {
   "cell_type": "markdown",
   "id": "575a803c",
   "metadata": {},
   "source": [
    "We can pull the $ln(p(x))$ out of the expectation and put it by itself because it doesn't depend on $q(z|x)$"
   ]
  },
  {
   "cell_type": "markdown",
   "id": "4f0aed55",
   "metadata": {},
   "source": [
    "## $KL(q(z|x), p(z|x)) = \\ln(p(x)) + E_{q(z|x)} \\ln \\left( \\frac{q(z|x))}{p(z)} \\right) - \\ln(p(x|z))$"
   ]
  },
  {
   "cell_type": "markdown",
   "id": "759bbadc",
   "metadata": {},
   "source": [
    "## $\\ln(p(x)) - KL(q(z|x), p(z|x)) =  E_{q(z|x)} \\ln(p(x|z)) - \\ln \\left( \\frac{q(z|x))}{p(z)} \\right)  $"
   ]
  },
  {
   "cell_type": "markdown",
   "id": "eaadb69b",
   "metadata": {},
   "source": [
    "### New goal: Maximize left hand side here; maximize $p(x)$"
   ]
  },
  {
   "cell_type": "markdown",
   "id": "8e723707",
   "metadata": {},
   "source": [
    "Name for LHS is \"evidence-based lower bound\" (ELBO)"
   ]
  },
  {
   "cell_type": "markdown",
   "id": "b747c229",
   "metadata": {},
   "source": [
    "Equivalent to maximizing RHS\n",
    "\n",
    "Equivalent to minimizing -RHS\n",
    "\n",
    "### $\\min_{q(z|x)} E_{q(z|x)} \\ln \\left( \\frac{q(z|x))}{p(z)} \\right) - \\ln(p(x|z)) $"
   ]
  },
  {
   "cell_type": "markdown",
   "id": "44bd648b",
   "metadata": {},
   "source": [
    "### $\\min_{q(z|x)}  KL(q(z|x)), p(z)) - E_{q(z|x)} \\ln(p(x|z)) $"
   ]
  },
  {
   "cell_type": "markdown",
   "id": "66653cde",
   "metadata": {},
   "source": [
    "Note that for the second term, if we use a Gaussian:\n",
    "\n",
    "### $- \\ln( \\frac{1}{\\sqrt{2 \\pi} \\sigma} e^{-(x-\\mu)^2/(2 \\sigma^2)} )$\n",
    "\n",
    "is equal to"
   ]
  },
  {
   "cell_type": "markdown",
   "id": "11ee255b",
   "metadata": {},
   "source": [
    "### $c + (x-\\mu)^2/(2 \\sigma^2) $"
   ]
  },
  {
   "cell_type": "markdown",
   "id": "775f56a6",
   "metadata": {},
   "source": [
    "so this justifies why we use a squared difference for the fit term of the loss"
   ]
  }
 ],
 "metadata": {
  "kernelspec": {
   "display_name": "Python 3 (ipykernel)",
   "language": "python",
   "name": "python3"
  },
  "language_info": {
   "codemirror_mode": {
    "name": "ipython",
    "version": 3
   },
   "file_extension": ".py",
   "mimetype": "text/x-python",
   "name": "python",
   "nbconvert_exporter": "python",
   "pygments_lexer": "ipython3",
   "version": "3.11.3"
  }
 },
 "nbformat": 4,
 "nbformat_minor": 5
}
